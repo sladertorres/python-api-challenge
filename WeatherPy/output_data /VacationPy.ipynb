{
 "cells": [
  {
   "cell_type": "markdown",
   "metadata": {},
   "source": [
    "# VacationPy\n",
    "\n",
    "---\n",
    "\n",
    "The goal is to find a vocation city or cities with ideal weather conditions based on the custom criteria using jupyter-gmaps and the Google Places API.\n",
    "\n",
    "---"
   ]
  },
  {
   "cell_type": "code",
   "execution_count": 36,
   "metadata": {},
   "outputs": [],
   "source": [
    "#!jupyter nbextension enable --py --sys-prefix widgetsnbextension\n",
    "#!jupyter nbextension enable --py --sys-prefix gmaps"
   ]
  },
  {
   "cell_type": "code",
   "execution_count": 39,
   "metadata": {},
   "outputs": [],
   "source": [
    "# Dependencies and Setup:\n",
    "import matplotlib.pyplot as plt\n",
    "import pandas as pd\n",
    "import numpy as np\n",
    "import requests\n",
    "import gmaps\n",
    "import os\n",
    "import json\n",
    "\n",
    "# Import API key:\n",
    "from api_keys import g_key"
   ]
  },
  {
   "cell_type": "markdown",
   "metadata": {},
   "source": [
    "---\n",
    "### Loading City Data From the Home Work Part 1"
   ]
  },
  {
   "cell_type": "code",
   "execution_count": 40,
   "metadata": {},
   "outputs": [
    {
     "data": {
      "text/html": [
       "<div>\n",
       "<style scoped>\n",
       "    .dataframe tbody tr th:only-of-type {\n",
       "        vertical-align: middle;\n",
       "    }\n",
       "\n",
       "    .dataframe tbody tr th {\n",
       "        vertical-align: top;\n",
       "    }\n",
       "\n",
       "    .dataframe thead th {\n",
       "        text-align: right;\n",
       "    }\n",
       "</style>\n",
       "<table border=\"1\" class=\"dataframe\">\n",
       "  <thead>\n",
       "    <tr style=\"text-align: right;\">\n",
       "      <th></th>\n",
       "      <th>City</th>\n",
       "      <th>Country</th>\n",
       "      <th>Date</th>\n",
       "      <th>Lat</th>\n",
       "      <th>Lng</th>\n",
       "      <th>Cloudiness (%)</th>\n",
       "      <th>Humidity (%)</th>\n",
       "      <th>Max Temp (F)</th>\n",
       "      <th>Wind Speed (mph)</th>\n",
       "    </tr>\n",
       "  </thead>\n",
       "  <tbody>\n",
       "    <tr>\n",
       "      <td>0</td>\n",
       "      <td>Ushuaia</td>\n",
       "      <td>AR</td>\n",
       "      <td>1586644613</td>\n",
       "      <td>-54.80</td>\n",
       "      <td>-68.30</td>\n",
       "      <td>40</td>\n",
       "      <td>80</td>\n",
       "      <td>41.00</td>\n",
       "      <td>23.04</td>\n",
       "    </tr>\n",
       "    <tr>\n",
       "      <td>1</td>\n",
       "      <td>Ardatov</td>\n",
       "      <td>RU</td>\n",
       "      <td>1586644688</td>\n",
       "      <td>55.24</td>\n",
       "      <td>43.10</td>\n",
       "      <td>100</td>\n",
       "      <td>82</td>\n",
       "      <td>32.54</td>\n",
       "      <td>13.78</td>\n",
       "    </tr>\n",
       "    <tr>\n",
       "      <td>2</td>\n",
       "      <td>Puerto Ayora</td>\n",
       "      <td>EC</td>\n",
       "      <td>1586644688</td>\n",
       "      <td>-0.74</td>\n",
       "      <td>-90.35</td>\n",
       "      <td>40</td>\n",
       "      <td>70</td>\n",
       "      <td>84.20</td>\n",
       "      <td>9.17</td>\n",
       "    </tr>\n",
       "    <tr>\n",
       "      <td>3</td>\n",
       "      <td>Chichihualco</td>\n",
       "      <td>MX</td>\n",
       "      <td>1586644688</td>\n",
       "      <td>17.68</td>\n",
       "      <td>-99.65</td>\n",
       "      <td>32</td>\n",
       "      <td>18</td>\n",
       "      <td>85.15</td>\n",
       "      <td>6.38</td>\n",
       "    </tr>\n",
       "    <tr>\n",
       "      <td>4</td>\n",
       "      <td>Luganville</td>\n",
       "      <td>VU</td>\n",
       "      <td>1586644688</td>\n",
       "      <td>-15.53</td>\n",
       "      <td>167.17</td>\n",
       "      <td>40</td>\n",
       "      <td>69</td>\n",
       "      <td>82.40</td>\n",
       "      <td>6.93</td>\n",
       "    </tr>\n",
       "  </tbody>\n",
       "</table>\n",
       "</div>"
      ],
      "text/plain": [
       "           City Country        Date    Lat     Lng  Cloudiness (%)  \\\n",
       "0       Ushuaia      AR  1586644613 -54.80  -68.30              40   \n",
       "1       Ardatov      RU  1586644688  55.24   43.10             100   \n",
       "2  Puerto Ayora      EC  1586644688  -0.74  -90.35              40   \n",
       "3  Chichihualco      MX  1586644688  17.68  -99.65              32   \n",
       "4    Luganville      VU  1586644688 -15.53  167.17              40   \n",
       "\n",
       "   Humidity (%)  Max Temp (F)  Wind Speed (mph)  \n",
       "0            80         41.00             23.04  \n",
       "1            82         32.54             13.78  \n",
       "2            70         84.20              9.17  \n",
       "3            18         85.15              6.38  \n",
       "4            69         82.40              6.93  "
      ]
     },
     "execution_count": 40,
     "metadata": {},
     "output_type": "execute_result"
    }
   ],
   "source": [
    "# File to Load:\n",
    "file_to_load='../weatherpy/output_data/cities.csv' # csv file created in part I of homework \n",
    "\n",
    "# Read csv cities file and store into data frame:\n",
    "city_data=pd.read_csv(file_to_load)\n",
    "city_data.head()"
   ]
  },
  {
   "cell_type": "code",
   "execution_count": 41,
   "metadata": {},
   "outputs": [
    {
     "data": {
      "text/plain": [
       "City                566\n",
       "Country             561\n",
       "Date                566\n",
       "Lat                 566\n",
       "Lng                 566\n",
       "Cloudiness (%)      566\n",
       "Humidity (%)        566\n",
       "Max Temp (F)        566\n",
       "Wind Speed (mph)    566\n",
       "dtype: int64"
      ]
     },
     "execution_count": 41,
     "metadata": {},
     "output_type": "execute_result"
    }
   ],
   "source": [
    "city_data.count()"
   ]
  },
  {
   "cell_type": "markdown",
   "metadata": {},
   "source": [
    "---\n",
    "### Humidity Heatmap"
   ]
  },
  {
   "cell_type": "code",
   "execution_count": 42,
   "metadata": {},
   "outputs": [
    {
     "data": {
      "text/plain": [
       "100"
      ]
     },
     "execution_count": 42,
     "metadata": {},
     "output_type": "execute_result"
    }
   ],
   "source": [
    "# Determan max humidity level in the city data frame:\n",
    "max_hum=city_data['Humidity (%)'].max()\n",
    "max_hum"
   ]
  },
  {
   "cell_type": "code",
   "execution_count": 43,
   "metadata": {},
   "outputs": [],
   "source": [
    "# Configure gmaps with API key:\n",
    "gmaps.configure(api_key=g_key)"
   ]
  },
  {
   "cell_type": "code",
   "execution_count": 44,
   "metadata": {},
   "outputs": [],
   "source": [
    "# Store 'Lat' and 'Lng' into  locations: \n",
    "city_data=city_data.dropna() # drop NaN values\n",
    "locations=city_data[['Lat', 'Lng']].astype(float)\n",
    "\n",
    "# Convert humidity level to float and store:\n",
    "humidity_rate=city_data['Humidity (%)'].astype(float)"
   ]
  },
  {
   "cell_type": "code",
   "execution_count": 46,
   "metadata": {
    "scrolled": false
   },
   "outputs": [
    {
     "data": {
      "application/vnd.jupyter.widget-view+json": {
       "model_id": "4b8c30226a684ce8bec2116b7c0fd10b",
       "version_major": 2,
       "version_minor": 0
      },
      "text/plain": [
       "Figure(layout=FigureLayout(height='420px'))"
      ]
     },
     "metadata": {},
     "output_type": "display_data"
    }
   ],
   "source": [
    "# Create a humidity heat map layer:\n",
    "fig=gmaps.figure()\n",
    "\n",
    "heat_layer=gmaps.heatmap_layer(locations, weights=humidity_rate, \n",
    "                                 dissipating=False, max_intensity=max_hum,\n",
    "                                 point_radius=3)\n",
    "\n",
    "fig.add_layer(heat_layer)\n",
    "fig"
   ]
  },
  {
   "cell_type": "markdown",
   "metadata": {},
   "source": [
    "---\n",
    "### New DataFrame Fitting Custom Weather Criteria"
   ]
  },
  {
   "cell_type": "code",
   "execution_count": 47,
   "metadata": {},
   "outputs": [
    {
     "data": {
      "text/plain": [
       "City                6\n",
       "Country             6\n",
       "Date                6\n",
       "Lat                 6\n",
       "Lng                 6\n",
       "Cloudiness (%)      6\n",
       "Humidity (%)        6\n",
       "Max Temp (F)        6\n",
       "Wind Speed (mph)    6\n",
       "dtype: int64"
      ]
     },
     "execution_count": 47,
     "metadata": {},
     "output_type": "execute_result"
    }
   ],
   "source": [
    "# Create new data frame with requested weather conditions:\n",
    "city_data_narrow=city_data[(city_data['Max Temp (F)'] < 80) &\n",
    "                             (city_data['Max Temp (F)'] > 65) &\n",
    "                             (city_data['Wind Speed (mph)'] < 10) &\n",
    "                             (city_data['Cloudiness (%)'] < 15) &\n",
    "                             (city_data['Humidity (%)'] < 30)]\n",
    "city_data_narrow=city_data_narrow.dropna() # drop any rows will null values\n",
    "city_data_narrow.count()"
   ]
  },
  {
   "cell_type": "code",
   "execution_count": 48,
   "metadata": {},
   "outputs": [
    {
     "data": {
      "text/html": [
       "<div>\n",
       "<style scoped>\n",
       "    .dataframe tbody tr th:only-of-type {\n",
       "        vertical-align: middle;\n",
       "    }\n",
       "\n",
       "    .dataframe tbody tr th {\n",
       "        vertical-align: top;\n",
       "    }\n",
       "\n",
       "    .dataframe thead th {\n",
       "        text-align: right;\n",
       "    }\n",
       "</style>\n",
       "<table border=\"1\" class=\"dataframe\">\n",
       "  <thead>\n",
       "    <tr style=\"text-align: right;\">\n",
       "      <th></th>\n",
       "      <th>City</th>\n",
       "      <th>Country</th>\n",
       "      <th>Date</th>\n",
       "      <th>Lat</th>\n",
       "      <th>Lng</th>\n",
       "      <th>Cloudiness (%)</th>\n",
       "      <th>Humidity (%)</th>\n",
       "      <th>Max Temp (F)</th>\n",
       "      <th>Wind Speed (mph)</th>\n",
       "    </tr>\n",
       "  </thead>\n",
       "  <tbody>\n",
       "    <tr>\n",
       "      <td>80</td>\n",
       "      <td>Mount Isa</td>\n",
       "      <td>AU</td>\n",
       "      <td>1586644695</td>\n",
       "      <td>-20.73</td>\n",
       "      <td>139.50</td>\n",
       "      <td>13</td>\n",
       "      <td>19</td>\n",
       "      <td>71.60</td>\n",
       "      <td>8.05</td>\n",
       "    </tr>\n",
       "    <tr>\n",
       "      <td>139</td>\n",
       "      <td>Tifton</td>\n",
       "      <td>US</td>\n",
       "      <td>1586644700</td>\n",
       "      <td>31.45</td>\n",
       "      <td>-83.51</td>\n",
       "      <td>1</td>\n",
       "      <td>27</td>\n",
       "      <td>77.00</td>\n",
       "      <td>6.93</td>\n",
       "    </tr>\n",
       "    <tr>\n",
       "      <td>292</td>\n",
       "      <td>Fort Morgan</td>\n",
       "      <td>US</td>\n",
       "      <td>1586644713</td>\n",
       "      <td>40.25</td>\n",
       "      <td>-103.80</td>\n",
       "      <td>1</td>\n",
       "      <td>10</td>\n",
       "      <td>73.40</td>\n",
       "      <td>5.03</td>\n",
       "    </tr>\n",
       "    <tr>\n",
       "      <td>368</td>\n",
       "      <td>Gīdam</td>\n",
       "      <td>IN</td>\n",
       "      <td>1586644719</td>\n",
       "      <td>18.98</td>\n",
       "      <td>81.40</td>\n",
       "      <td>0</td>\n",
       "      <td>27</td>\n",
       "      <td>73.65</td>\n",
       "      <td>2.53</td>\n",
       "    </tr>\n",
       "    <tr>\n",
       "      <td>440</td>\n",
       "      <td>Forest</td>\n",
       "      <td>US</td>\n",
       "      <td>1586644538</td>\n",
       "      <td>37.36</td>\n",
       "      <td>-79.29</td>\n",
       "      <td>1</td>\n",
       "      <td>20</td>\n",
       "      <td>66.99</td>\n",
       "      <td>8.05</td>\n",
       "    </tr>\n",
       "    <tr>\n",
       "      <td>454</td>\n",
       "      <td>Grand Island</td>\n",
       "      <td>US</td>\n",
       "      <td>1586644638</td>\n",
       "      <td>40.92</td>\n",
       "      <td>-98.34</td>\n",
       "      <td>1</td>\n",
       "      <td>25</td>\n",
       "      <td>73.40</td>\n",
       "      <td>9.17</td>\n",
       "    </tr>\n",
       "  </tbody>\n",
       "</table>\n",
       "</div>"
      ],
      "text/plain": [
       "             City Country        Date    Lat     Lng  Cloudiness (%)  \\\n",
       "80      Mount Isa      AU  1586644695 -20.73  139.50              13   \n",
       "139        Tifton      US  1586644700  31.45  -83.51               1   \n",
       "292   Fort Morgan      US  1586644713  40.25 -103.80               1   \n",
       "368         Gīdam      IN  1586644719  18.98   81.40               0   \n",
       "440        Forest      US  1586644538  37.36  -79.29               1   \n",
       "454  Grand Island      US  1586644638  40.92  -98.34               1   \n",
       "\n",
       "     Humidity (%)  Max Temp (F)  Wind Speed (mph)  \n",
       "80             19         71.60              8.05  \n",
       "139            27         77.00              6.93  \n",
       "292            10         73.40              5.03  \n",
       "368            27         73.65              2.53  \n",
       "440            20         66.99              8.05  \n",
       "454            25         73.40              9.17  "
      ]
     },
     "execution_count": 48,
     "metadata": {},
     "output_type": "execute_result"
    }
   ],
   "source": [
    "city_data_narrow.head(6)"
   ]
  },
  {
   "cell_type": "code",
   "execution_count": 49,
   "metadata": {},
   "outputs": [
    {
     "name": "stdout",
     "output_type": "stream",
     "text": [
      "Beginning Data Retrieval\n",
      "-----------------------------\n",
      "Looking for Hotels near: Mount Isa | Record 1 of Total 6\n",
      "Looking for Hotels near: Tifton | Record 2 of Total 6\n",
      "Looking for Hotels near: Fort Morgan | Record 3 of Total 6\n",
      "Looking for Hotels near: Gīdam | Record 4 of Total 6\n",
      "No Hotel Near Location... Skipping...\n",
      "Looking for Hotels near: Forest | Record 5 of Total 6\n",
      "No Hotel Near Location... Skipping...\n",
      "Looking for Hotels near: Grand Island | Record 6 of Total 6\n",
      "-------------------------------\n",
      "Data Retrieval Complete\n",
      "-------------------------------\n"
     ]
    }
   ],
   "source": [
    "# Set up lists to hold response info:\n",
    "name=[]         # list for hotel name\n",
    "city=[]         # list for hotel city\n",
    "country=[]      # list for hotel country\n",
    "lat=[]          # list for hotel latitude\n",
    "lng=[]          # list for hotel longitude\n",
    "\n",
    "# Loop through the list of cities and perform a request for data on each and add to corresponding lists:\n",
    "\n",
    "count=1 # set counter to start value 1 for printouts of the current set count\n",
    "\n",
    "print('Beginning Data Retrieval')     \n",
    "print('-----------------------------')\n",
    "for i in range(len(city_data_narrow)) : \n",
    "   \n",
    "    lati=str(city_data_narrow.iloc[i, 3])    \n",
    "    lngi=str(city_data_narrow.iloc[i, 4])\n",
    "    \n",
    "    target_coordinates=lati + ', ' + lngi  \n",
    "    target_search='Hotel'\n",
    "    target_radius=5000\n",
    "    target_type='lodging'\n",
    "\n",
    "    # Set up a parameters dictionary:\n",
    "    params={\n",
    "        'location': target_coordinates,\n",
    "        'keyword': target_search,\n",
    "        'radius': target_radius,\n",
    "        'type': target_type,\n",
    "        'key': g_key\n",
    "    }\n",
    "\n",
    "    # Base url:\n",
    "    base_url='https://maps.googleapis.com/maps/api/place/nearbysearch/json'\n",
    "\n",
    "    # Run a request using the above params dictionary:\n",
    "    response=requests.get(base_url, params=params)\n",
    "    #print(response.url)\n",
    "    \n",
    "    # Convert response to json:\n",
    "    places_data=response.json()\n",
    "    #print(json.dumps(places_data, indent=4, sort_keys=True))\n",
    "    \n",
    "    # Print user feedback: \n",
    "    print('Looking for Hotels near: ' + str(city_data_narrow.iloc[i, 0]) + ' | Record ' + str(count) + ' of Total ' + str(len(city_data_narrow)))\n",
    "     \n",
    "    # Add requested data to  result lists:\n",
    "    try:                                             # ignore errors in response\n",
    "        name.append(places_data['results'][0]['name'])\n",
    "        city.append(city_data_narrow.iloc[i, 0])\n",
    "        country.append(city_data_narrow.iloc[i, 1])\n",
    "        lat.append(places_data['results'][0]['geometry']['location']['lat'])\n",
    "        lng.append(places_data['results'][0]['geometry']['location']['lng'])\n",
    "    except IndexError:\n",
    "        print('No Hotel Near Location... Skipping...') # in case one of the responses comes back with error \"IndexError\"\n",
    "                                                           # which could be no hotel near location \n",
    "  \n",
    "    count=count+1\n",
    "    \n",
    "# Print Ending Log Statement:\n",
    "print('-------------------------------')\n",
    "print('Data Retrieval Complete')\n",
    "print('-------------------------------')"
   ]
  },
  {
   "cell_type": "code",
   "execution_count": 50,
   "metadata": {},
   "outputs": [
    {
     "data": {
      "text/plain": [
       "City          4\n",
       "Country       4\n",
       "Lat           4\n",
       "Lng           4\n",
       "Hotel Name    4\n",
       "dtype: int64"
      ]
     },
     "execution_count": 50,
     "metadata": {},
     "output_type": "execute_result"
    }
   ],
   "source": [
    "# Create a data frame from api call list:\n",
    "hotel_dict={\n",
    "    'City': city,\n",
    "    'Country': country,\n",
    "    'Lat': lat,\n",
    "    'Lng': lng,\n",
    "    'Hotel Name': name\n",
    "}\n",
    "hotel_df=pd.DataFrame(hotel_dict)\n",
    "hotel_df.count()"
   ]
  },
  {
   "cell_type": "code",
   "execution_count": 51,
   "metadata": {},
   "outputs": [
    {
     "data": {
      "text/html": [
       "<div>\n",
       "<style scoped>\n",
       "    .dataframe tbody tr th:only-of-type {\n",
       "        vertical-align: middle;\n",
       "    }\n",
       "\n",
       "    .dataframe tbody tr th {\n",
       "        vertical-align: top;\n",
       "    }\n",
       "\n",
       "    .dataframe thead th {\n",
       "        text-align: right;\n",
       "    }\n",
       "</style>\n",
       "<table border=\"1\" class=\"dataframe\">\n",
       "  <thead>\n",
       "    <tr style=\"text-align: right;\">\n",
       "      <th></th>\n",
       "      <th>City</th>\n",
       "      <th>Country</th>\n",
       "      <th>Lat</th>\n",
       "      <th>Lng</th>\n",
       "      <th>Hotel Name</th>\n",
       "    </tr>\n",
       "  </thead>\n",
       "  <tbody>\n",
       "    <tr>\n",
       "      <td>0</td>\n",
       "      <td>Mount Isa</td>\n",
       "      <td>AU</td>\n",
       "      <td>-20.699471</td>\n",
       "      <td>139.486778</td>\n",
       "      <td>Abacus Motel</td>\n",
       "    </tr>\n",
       "    <tr>\n",
       "      <td>1</td>\n",
       "      <td>Tifton</td>\n",
       "      <td>US</td>\n",
       "      <td>31.447463</td>\n",
       "      <td>-83.534218</td>\n",
       "      <td>Hilton Garden Inn Tifton</td>\n",
       "    </tr>\n",
       "    <tr>\n",
       "      <td>2</td>\n",
       "      <td>Fort Morgan</td>\n",
       "      <td>US</td>\n",
       "      <td>40.264564</td>\n",
       "      <td>-103.773168</td>\n",
       "      <td>Comfort Inn</td>\n",
       "    </tr>\n",
       "    <tr>\n",
       "      <td>3</td>\n",
       "      <td>Grand Island</td>\n",
       "      <td>US</td>\n",
       "      <td>40.895797</td>\n",
       "      <td>-98.338922</td>\n",
       "      <td>Best Western Plus Grand Island Inn &amp; Suites</td>\n",
       "    </tr>\n",
       "  </tbody>\n",
       "</table>\n",
       "</div>"
      ],
      "text/plain": [
       "           City Country        Lat         Lng  \\\n",
       "0     Mount Isa      AU -20.699471  139.486778   \n",
       "1        Tifton      US  31.447463  -83.534218   \n",
       "2   Fort Morgan      US  40.264564 -103.773168   \n",
       "3  Grand Island      US  40.895797  -98.338922   \n",
       "\n",
       "                                    Hotel Name  \n",
       "0                                 Abacus Motel  \n",
       "1                     Hilton Garden Inn Tifton  \n",
       "2                                  Comfort Inn  \n",
       "3  Best Western Plus Grand Island Inn & Suites  "
      ]
     },
     "execution_count": 51,
     "metadata": {},
     "output_type": "execute_result"
    }
   ],
   "source": [
    "hotel_df"
   ]
  },
  {
   "cell_type": "markdown",
   "metadata": {},
   "source": [
    "---\n",
    "### Hotel Map for Vacation Cities"
   ]
  },
  {
   "cell_type": "code",
   "execution_count": 52,
   "metadata": {},
   "outputs": [],
   "source": [
    "# NOTE: Do not change any of the code in this cell.\n",
    "\n",
    "# Using the template add the hotel marks to the heatmap:\n",
    "info_box_template=\"\"\"\n",
    "<dl>\n",
    "<dt>Name</dt><dd>{Hotel Name}</dd>\n",
    "<dt>City</dt><dd>{City}</dd>\n",
    "<dt>Country</dt><dd>{Country}</dd>\n",
    "</dl>\n",
    "\"\"\"\n",
    "# Store the DataFrame Row:\n",
    "# NOTE: be sure to update with your DataFrame name!\n",
    "hotel_info=[info_box_template.format(**row) for index, row in hotel_df.iterrows()]\n",
    "locations=hotel_df[['Lat', 'Lng']]"
   ]
  },
  {
   "cell_type": "code",
   "execution_count": 53,
   "metadata": {},
   "outputs": [
    {
     "data": {
      "application/vnd.jupyter.widget-view+json": {
       "model_id": "d6951e8279cf42768ea2473a02f84d2d",
       "version_major": 2,
       "version_minor": 0
      },
      "text/plain": [
       "Figure(layout=FigureLayout(border='1px solid black', height='600px', margin='0 auto 0 auto', padding='1px', wi…"
      ]
     },
     "metadata": {},
     "output_type": "display_data"
    }
   ],
   "source": [
    "# Customize the size of the figure:\n",
    "figure_layout={\n",
    "    'width': '955px',\n",
    "    'height': '600px',\n",
    "    'border': '1px solid black',\n",
    "    'padding': '1px',\n",
    "    'margin': '0 auto 0 auto'\n",
    "}\n",
    "fig=gmaps.figure(layout=figure_layout)\n",
    "\n",
    "# Assign the marker layer to a variable:\n",
    "markers=gmaps.marker_layer(locations, info_box_content=hotel_info)\n",
    "# Add the layer to the map:\n",
    "fig.add_layer(markers)\n",
    "fig"
   ]
  },
  {
   "cell_type": "code",
   "execution_count": 54,
   "metadata": {},
   "outputs": [
    {
     "data": {
      "application/vnd.jupyter.widget-view+json": {
       "model_id": "08ccb79d59ef4a1685abf270f29128d2",
       "version_major": 2,
       "version_minor": 0
      },
      "text/plain": [
       "Figure(layout=FigureLayout(height='420px'))"
      ]
     },
     "metadata": {},
     "output_type": "display_data"
    }
   ],
   "source": [
    "# Create a combined map:\n",
    "fig=gmaps.figure()\n",
    "\n",
    "fig.add_layer(heat_layer)\n",
    "fig.add_layer(markers)\n",
    "\n",
    "fig"
   ]
  }
 ],
 "metadata": {
  "kernelspec": {
   "display_name": "Python 3",
   "language": "python",
   "name": "python3"
  },
  "language_info": {
   "codemirror_mode": {
    "name": "ipython",
    "version": 3
   },
   "file_extension": ".py",
   "mimetype": "text/x-python",
   "name": "python",
   "nbconvert_exporter": "python",
   "pygments_lexer": "ipython3",
   "version": "3.7.4"
  },
  "latex_envs": {
   "LaTeX_envs_menu_present": true,
   "autoclose": false,
   "autocomplete": true,
   "bibliofile": "biblio.bib",
   "cite_by": "apalike",
   "current_citInitial": 1,
   "eqLabelWithNumbers": true,
   "eqNumInitial": 1,
   "hotkeys": {
    "equation": "Ctrl-E",
    "itemize": "Ctrl-I"
   },
   "labels_anchors": false,
   "latex_user_defs": false,
   "report_style_numbering": false,
   "user_envs_cfg": false
  }
 },
 "nbformat": 4,
 "nbformat_minor": 2
}
